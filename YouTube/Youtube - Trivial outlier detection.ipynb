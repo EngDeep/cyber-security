{
 "cells": [
  {
   "cell_type": "markdown",
   "metadata": {
    "colab_type": "text",
    "id": "PKMDZ61LRfY4"
   },
   "source": [
    "# Detecting Trivial outliers\n",
    "> [github.com/alik604](github.com/alik604)\n",
    "\n",
    "My version of [krishnaik06's tutorial](https://github.com/krishnaik06/Finding-an-Outlier/blob/master/Finding%20an%20outlier%20in%20a%20Dataset.ipynb) \n"
   ]
  },
  {
   "cell_type": "code",
   "execution_count": 1,
   "metadata": {
    "colab": {
     "base_uri": "https://localhost:8080/",
     "height": 174
    },
    "colab_type": "code",
    "id": "oID4hFUQSMQB",
    "outputId": "6291db97-27bf-4453-f8b9-984155100873"
   },
   "outputs": [],
   "source": [
    "import numpy as np\n",
    "import pandas as pd\n",
    "import matplotlib.pyplot as plt\n",
    "%matplotlib inline\n",
    "\n",
    "\n",
    "from IPython.core.interactiveshell import InteractiveShell\n",
    "InteractiveShell.ast_node_interactivity = \"all\""
   ]
  },
  {
   "cell_type": "code",
   "execution_count": 2,
   "metadata": {
    "colab": {},
    "colab_type": "code",
    "id": "6n39Q82ASMTc"
   },
   "outputs": [],
   "source": [
    "data = np.random.normal(0,1, size = 1000000) # 1,000,000"
   ]
  },
  {
   "cell_type": "markdown",
   "metadata": {},
   "source": [
    "or apply `sklearn.preprocessing.standardscaler`, though that might not be valid method, as you may* see outliers where they are non.\n",
    "\n",
    "suppose all-1 students [95%..100%], and one gets 101%. Calling that a outlier might be a False Positive, possibly due to lack of variance in the data.. other problems may occur if they is a skew  "
   ]
  },
  {
   "cell_type": "code",
   "execution_count": 27,
   "metadata": {
    "colab": {
     "base_uri": "https://localhost:8080/",
     "height": 265
    },
    "colab_type": "code",
    "id": "D-ir9SqoSMWa",
    "outputId": "703de04e-fe40-42e6-9270-088a386435d4"
   },
   "outputs": [
    {
     "data": {
      "image/png": "[encoded data removed]",
      "text/plain": [
       "<Figure size 432x288 with 1 Axes>"
      ]
     },
     "metadata": {
      "needs_background": "light"
     },
     "output_type": "display_data"
    }
   ],
   "source": [
    "_ = plt.hist(data, bins = 123) # bins sets the granularity"
   ]
  },
  {
   "cell_type": "markdown",
   "metadata": {},
   "source": [
    "## Z Score\n",
    "Z-score is measured in terms of standard deviations from the mean"
   ]
  },
  {
   "cell_type": "code",
   "execution_count": 4,
   "metadata": {
    "colab": {},
    "colab_type": "code",
    "id": "lAsaj4nWSMbd"
   },
   "outputs": [],
   "source": [
    "def detect_outliers(data, threshold = 4):\n",
    "    outliers=[]\n",
    "    threshold = threshold\n",
    "    mean, std = np.mean(data), np.std(data)\n",
    "    \n",
    "    for i in data:\n",
    "        z_score = (i - mean)/std \n",
    "        if np.abs(z_score) > threshold:\n",
    "            outliers.append(i)\n",
    "            \n",
    "    return outliers\n",
    "\n",
    "outliers = detect_outliers(data)"
   ]
  },
  {
   "cell_type": "code",
   "execution_count": 5,
   "metadata": {
    "colab": {},
    "colab_type": "code",
    "id": "VQtcNUpNSMZY"
   },
   "outputs": [
    {
     "name": "stdout",
     "output_type": "stream",
     "text": [
      "0.0063 %\n"
     ]
    },
    {
     "data": {
      "image/png": "[encoded data removed]",
      "text/plain": [
       "<Figure size 432x288 with 1 Axes>"
      ]
     },
     "metadata": {
      "needs_background": "light"
     },
     "output_type": "display_data"
    }
   ],
   "source": [
    "print(len(outliers)/len(data) * 100, '%')\n",
    "_ = plt.hist(outliers, bins = 1234) # Don't be mislead by the hight\n",
    "\n",
    "# 68 95 and 99.7 rule"
   ]
  },
  {
   "cell_type": "markdown",
   "metadata": {
    "colab": {},
    "colab_type": "code",
    "id": "GD58ocGkSHcx"
   },
   "source": [
    "## Interquartile range\n",
    "[wiki](https://en.wikipedia.org/wiki/Interquartile_range#Outliers)"
   ]
  },
  {
   "cell_type": "code",
   "execution_count": 6,
   "metadata": {},
   "outputs": [
    {
     "name": "stdout",
     "output_type": "stream",
     "text": [
      "-0.6752048736475683 -0.0011689592082800037 0.6725974501091732\n"
     ]
    }
   ],
   "source": [
    "q1, q2, q3 = np.quantile(data, [0.25, 0.5, 0.75])\n",
    "print(q1, q2, q3)"
   ]
  },
  {
   "cell_type": "code",
   "execution_count": 21,
   "metadata": {},
   "outputs": [
    {
     "name": "stdout",
     "output_type": "stream",
     "text": [
      "-2.6969083592826806 2.6943009357442853\n"
     ]
    }
   ],
   "source": [
    "IQR = q3 - q1 \n",
    "lower_bound = q1 - 1.5 * IQR\n",
    "upper_bound = q3 + 1.5 * IQR\n",
    "print(lower_bound, upper_bound)"
   ]
  },
  {
   "cell_type": "code",
   "execution_count": 32,
   "metadata": {},
   "outputs": [],
   "source": [
    "def detect_outliers_IQR(data, lower_bound, upper_bound, multiplier = 1.5):\n",
    "    '''Outliers are defined as mild above Q3 + 1.5 IQR and extreme above Q3 + 3 IQR. Potential `multiplers` = {1.5, 3...}'''\n",
    "    q1, q2, q3 = np.quantile(data, [0.25, 0.5, 0.75])\n",
    "    IQR = q3 - q1 \n",
    "    lower_bound, upper_bound = q1 - multiplier * IQR, q3 + multiplier * IQR\n",
    "    return[data_point for data_point in data if data_point < lower_bound or data_point > upper_bound]\n",
    "\n",
    "outliers = detect_outliers_IQR(data, lower_bound, upper_bound, multiplier = 2.25)"
   ]
  },
  {
   "cell_type": "code",
   "execution_count": 33,
   "metadata": {},
   "outputs": [
    {
     "name": "stdout",
     "output_type": "stream",
     "text": [
      "Contaminated 0.0203%\n"
     ]
    },
    {
     "data": {
      "image/png": "[encoded data removed]",
      "text/plain": [
       "<Figure size 432x288 with 1 Axes>"
      ]
     },
     "metadata": {
      "needs_background": "light"
     },
     "output_type": "display_data"
    }
   ],
   "source": [
    "_ = plt.hist(outliers, bins = 123) # Don't be mislead by the hight\n",
    "print('Contaminated {:.4}%'.format(len(outliers)/len(data) * 100))"
   ]
  },
  {
   "cell_type": "markdown",
   "metadata": {},
   "source": [
    "## PCA based\n",
    "\n",
    "Principal component analysis (PCA) can be used in detecting outliers. PCA is a **linear** dimensionality reduction ~using Singular Value Decomposition~ of the data to project it to a lower dimensional space.\n",
    "\n",
    "In this procedure, covariance matrix of the data can be decomposed to orthogonal vectors, called eigenvectors, associated with eigenvalues. The eigenvectors with **high eigenvalues** capture most of the variance in the data.\n",
    "\n",
    "Therefore, a low dimensional hyperplane constructed by **k eigenvectors** can capture most of the variance in the data. However, outliers are different from normal data points, which is more obvious on the hyperplane constructed by the eigenvectors with **small eigenvalues**.\n",
    "\n",
    "-from [PYOD.medels.pca](https://pyod.readthedocs.io/en/latest/_modules/pyod/models/pca.html)\n",
    "\n",
    "\n",
    "[Here](https://medium.com/@aptrishu/understanding-principle-component-analysis-e32be0253ef0) is a popular medium article to further confuse yourself :)\n",
    "\n"
   ]
  },
  {
   "cell_type": "markdown",
   "metadata": {},
   "source": [
    "From [python-engineer's MLfromscratch](https://github.com/python-engineer/MLfromscratch/blob/master/mlfromscratch/pca.py)\n",
    "``` Python \n",
    "import numpy as np\n",
    "\n",
    "class PCA:\n",
    "\n",
    "    def __init__(self, n_components):\n",
    "        self.n_components = n_components\n",
    "        self.components = None\n",
    "        self.mean = None\n",
    "\n",
    "    def fit(self, X):\n",
    "        # Mean centering\n",
    "        self.mean = np.mean(X, axis=0) ## row mean \n",
    "        X = X - self.mean\n",
    "        # covariance, function needs samples as columns\n",
    "        cov = np.cov(X.T)\n",
    "        # eigenvalues, eigenvectors\n",
    "        eigenvalues, eigenvectors = np.linalg.eig(cov)\n",
    "        # -> eigenvector v = [:,i] column vector, transpose for easier calculations\n",
    "        # sort eigenvectors\n",
    "        eigenvectors = eigenvectors.T\n",
    "        idxs = np.argsort(eigenvalues)[::-1] ## [::-1] is a reverse, so its from LARGEST to smallest\n",
    "        eigenvalues = eigenvalues[idxs]\n",
    "        eigenvectors = eigenvectors[idxs]\n",
    "        # store first n eigenvectors\n",
    "        self.components = eigenvectors[0:self.n_components]\n",
    "\n",
    "    def transform(self, X):\n",
    "        # project data\n",
    "        X = X - self.mean\n",
    "        return np.dot(X, self.components.T)\n",
    "    \n",
    "```\n",
    "\n",
    "so, with[this](https://h1ros.github.io/posts/anomaly-detection-by-pca-in-pyod/) we can..."
   ]
  },
  {
   "cell_type": "code",
   "execution_count": 10,
   "metadata": {},
   "outputs": [],
   "source": [
    "import seaborn as sns\n",
    "%matplotlib inline\n",
    "\n",
    "# PyOD\n",
    "from pyod.utils.data import generate_data\n",
    "from pyod.models.pca import PCA\n",
    "from pyod.utils.data import evaluate_print\n",
    "from pyod.utils.example import visualize"
   ]
  },
  {
   "cell_type": "code",
   "execution_count": 35,
   "metadata": {},
   "outputs": [
    {
     "data": {
      "text/html": [
       "<div>\n",
       "<style scoped>\n",
       "    .dataframe tbody tr th:only-of-type {\n",
       "        vertical-align: middle;\n",
       "    }\n",
       "\n",
       "    .dataframe tbody tr th {\n",
       "        vertical-align: top;\n",
       "    }\n",
       "\n",
       "    .dataframe thead th {\n",
       "        text-align: right;\n",
       "    }\n",
       "</style>\n",
       "<table border=\"1\" class=\"dataframe\">\n",
       "  <thead>\n",
       "    <tr style=\"text-align: right;\">\n",
       "      <th></th>\n",
       "      <th>0</th>\n",
       "      <th>1</th>\n",
       "      <th>2</th>\n",
       "      <th>3</th>\n",
       "      <th>4</th>\n",
       "      <th>y</th>\n",
       "    </tr>\n",
       "  </thead>\n",
       "  <tbody>\n",
       "    <tr>\n",
       "      <th>990</th>\n",
       "      <td>7.538204</td>\n",
       "      <td>-3.284365</td>\n",
       "      <td>0.711326</td>\n",
       "      <td>6.625187</td>\n",
       "      <td>4.959648</td>\n",
       "      <td>1.0</td>\n",
       "    </tr>\n",
       "    <tr>\n",
       "      <th>991</th>\n",
       "      <td>2.027464</td>\n",
       "      <td>-7.297978</td>\n",
       "      <td>-5.632837</td>\n",
       "      <td>4.960199</td>\n",
       "      <td>-0.798969</td>\n",
       "      <td>1.0</td>\n",
       "    </tr>\n",
       "    <tr>\n",
       "      <th>992</th>\n",
       "      <td>-1.536253</td>\n",
       "      <td>7.454511</td>\n",
       "      <td>2.911177</td>\n",
       "      <td>-0.950765</td>\n",
       "      <td>-2.723218</td>\n",
       "      <td>1.0</td>\n",
       "    </tr>\n",
       "    <tr>\n",
       "      <th>993</th>\n",
       "      <td>-4.616720</td>\n",
       "      <td>3.615583</td>\n",
       "      <td>7.375948</td>\n",
       "      <td>0.572254</td>\n",
       "      <td>2.838256</td>\n",
       "      <td>1.0</td>\n",
       "    </tr>\n",
       "    <tr>\n",
       "      <th>994</th>\n",
       "      <td>-4.791777</td>\n",
       "      <td>6.906225</td>\n",
       "      <td>-1.681329</td>\n",
       "      <td>-4.557204</td>\n",
       "      <td>-1.089064</td>\n",
       "      <td>1.0</td>\n",
       "    </tr>\n",
       "  </tbody>\n",
       "</table>\n",
       "</div>"
      ],
      "text/plain": [
       "            0         1         2         3         4    y\n",
       "990  7.538204 -3.284365  0.711326  6.625187  4.959648  1.0\n",
       "991  2.027464 -7.297978 -5.632837  4.960199 -0.798969  1.0\n",
       "992 -1.536253  7.454511  2.911177 -0.950765 -2.723218  1.0\n",
       "993 -4.616720  3.615583  7.375948  0.572254  2.838256  1.0\n",
       "994 -4.791777  6.906225 -1.681329 -4.557204 -1.089064  1.0"
      ]
     },
     "execution_count": 35,
     "metadata": {},
     "output_type": "execute_result"
    }
   ],
   "source": [
    "X_train, y_train = generate_data(behaviour='new', n_features=5, train_only=True, contamination= 0.01)\n",
    "df_train = pd.DataFrame(X_train)\n",
    "df_train['y'] = y_train\n",
    "\n",
    "df_train[df_train['y'] == 1].head(5)"
   ]
  },
  {
   "cell_type": "code",
   "execution_count": 12,
   "metadata": {},
   "outputs": [
    {
     "data": {
      "image/png": "[encoded data removed]",
      "text/plain": [
       "<Figure size 432x288 with 1 Axes>"
      ]
     },
     "metadata": {
      "needs_background": "light"
     },
     "output_type": "display_data"
    }
   ],
   "source": [
    "sns.scatterplot(x=0, y=1, hue='y', data=df_train);\n",
    "plt.title('Ground Truth');"
   ]
  },
  {
   "cell_type": "code",
   "execution_count": 13,
   "metadata": {},
   "outputs": [],
   "source": [
    "clf = PCA(contamination = 0.1) # default parameters \n",
    "_ = clf.fit(X_train) "
   ]
  },
  {
   "cell_type": "code",
   "execution_count": 14,
   "metadata": {},
   "outputs": [
    {
     "name": "stdout",
     "output_type": "stream",
     "text": [
      "Portion of contaminated data: 0.1\n"
     ]
    },
    {
     "data": {
      "image/png": "[encoded data removed]",
      "text/plain": [
       "<Figure size 432x288 with 1 Axes>"
      ]
     },
     "metadata": {
      "needs_background": "light"
     },
     "output_type": "display_data"
    }
   ],
   "source": [
    "y_train_pred = clf.labels_\n",
    "y_train_scores = clf.decision_scores_\n",
    "print('Portion of contaminated data:',np.sum(clf.labels_)/df_train.shape[0])\n",
    "plt.title('Anomaly Scores by PCA');\n",
    "sns.scatterplot(x=0, y=1, hue=y_train_scores, data=df_train, palette='RdBu_r');"
   ]
  },
  {
   "cell_type": "code",
   "execution_count": 15,
   "metadata": {},
   "outputs": [
    {
     "data": {
      "image/png": "[encoded data removed]",
      "text/plain": [
       "<Figure size 432x288 with 1 Axes>"
      ]
     },
     "metadata": {
      "needs_background": "light"
     },
     "output_type": "display_data"
    }
   ],
   "source": [
    "plt.title('Anomaly Scores by PCA');\n",
    "sns.scatterplot(x=3, y=4, hue=y_train_scores, data=df_train, palette='RdBu_r');"
   ]
  },
  {
   "cell_type": "code",
   "execution_count": 16,
   "metadata": {},
   "outputs": [
    {
     "name": "stdout",
     "output_type": "stream",
     "text": [
      "Accuracy 91.0%\n"
     ]
    }
   ],
   "source": [
    "accuracy = np.sum(y_train == clf.labels_) / y_train.shape[0] # Correctly classified over all \n",
    "accuracy = accuracy * 100\n",
    "print('Accuracy {:2}%'.format(accuracy))"
   ]
  },
  {
   "cell_type": "code",
   "execution_count": 17,
   "metadata": {},
   "outputs": [],
   "source": [
    "# evaluate_print('PCA', y_train, clf.labels_)\n",
    "# PCA ROC:0.9545, precision @ rank n:0.0"
   ]
  },
  {
   "cell_type": "code",
   "execution_count": null,
   "metadata": {},
   "outputs": [],
   "source": []
  }
 ],
 "metadata": {
  "colab": {
   "collapsed_sections": [],
   "name": "Youtube - Trivial outlier detection ",
   "provenance": []
  },
  "kernelspec": {
   "display_name": "Python 3",
   "language": "python",
   "name": "python3"
  },
  "language_info": {
   "codemirror_mode": {
    "name": "ipython",
    "version": 3
   },
   "file_extension": ".py",
   "mimetype": "text/x-python",
   "name": "python",
   "nbconvert_exporter": "python",
   "pygments_lexer": "ipython3",
   "version": "3.7.6"
  }
 },
 "nbformat": 4,
 "nbformat_minor": 4
}
