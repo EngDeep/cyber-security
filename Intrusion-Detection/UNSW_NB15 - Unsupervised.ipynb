{
 "cells": [
  {
   "cell_type": "markdown",
   "metadata": {
    "colab_type": "text",
    "id": "view-in-github"
   },
   "source": [
    "<a href=\"https://colab.research.google.com/github/alik604/cyber-security/blob/master/Intrusion-Detection/UNSW_NB15%20-%20Unsupervised.ipynb\" target=\"_parent\"><img src=\"https://colab.research.google.com/assets/colab-badge.svg\" alt=\"Open In Colab\"/></a>"
   ]
  },
  {
   "cell_type": "markdown",
   "metadata": {
    "id": "Fl-cPhNxn6QU"
   },
   "source": [
    " ## References \n",
    "\n",
    " * Data source: https://www.unsw.adfa.edu.au/unsw-canberra-cyber/cybersecurity/ADFA-NB15-Datasets/\n",
    " * Sample/starter code: https://github.com/Nir-J/ML-Projects/blob/master/UNSW-Network_Packet_Classification/unsw.py"
   ]
  },
  {
   "cell_type": "code",
   "execution_count": 1,
   "metadata": {
    "colab": {
     "base_uri": "https://localhost:8080/",
     "height": 51
    },
    "id": "Lx1Zh6UUU-ov",
    "outputId": "295c128c-040e-4766-9556-5834306d23cc"
   },
   "outputs": [
    {
     "name": "stderr",
     "output_type": "stream",
     "text": [
      "Using TensorFlow backend.\n"
     ]
    }
   ],
   "source": [
    "%config IPCompleter.greedy=True\n",
    "import pandas as pd\n",
    "import seaborn as sns\n",
    "import numpy as np\n",
    "\n",
    "import matplotlib as matplot\n",
    "import matplotlib.pyplot as plt\n",
    "%matplotlib inline\n",
    "\n",
    "from IPython.core.interactiveshell import InteractiveShell\n",
    "InteractiveShell.ast_node_interactivity = \"all\"\n",
    "\n",
    "import warnings\n",
    "warnings.filterwarnings(\"ignore\")\n",
    "\n",
    "from keras import Sequential\n",
    "from keras.models import Model, load_model\n",
    "from keras.layers import *\n",
    "from keras.callbacks import ModelCheckpoint\n",
    "from keras import regularizers\n",
    "\n",
    "from sklearn.metrics import *\n",
    "from sklearn.tree import DecisionTreeClassifier\n",
    "from sklearn.ensemble import RandomForestClassifier, ExtraTreesClassifier, VotingClassifier\n",
    "from sklearn.model_selection import train_test_split\n",
    "from sklearn.preprocessing import LabelEncoder,normalize\n",
    "\n",
    "\n",
    "import xgboost, lightgbm\n",
    "from mlxtend.classifier import EnsembleVoteClassifier"
   ]
  },
  {
   "cell_type": "markdown",
   "metadata": {
    "id": "h2Kvca3apvAc"
   },
   "source": [
    "# Preprocessing (transformation/scaling) "
   ]
  },
  {
   "cell_type": "code",
   "execution_count": 2,
   "metadata": {
    "id": "vjw9JrARVJ23"
   },
   "outputs": [],
   "source": [
    "train = pd.read_csv('https://raw.githubusercontent.com/Nir-J/ML-Projects/master/UNSW-Network_Packet_Classification/UNSW_NB15_training-set.csv')\n",
    "test = pd.read_csv('https://raw.githubusercontent.com/Nir-J/ML-Projects/master/UNSW-Network_Packet_Classification/UNSW_NB15_testing-set.csv')\n",
    "combined_data = pd.concat([train, test]).drop(['id'],axis=1)"
   ]
  },
  {
   "cell_type": "code",
   "execution_count": 3,
   "metadata": {
    "colab": {
     "base_uri": "https://localhost:8080/",
     "height": 85
    },
    "id": "C5hh-CdxbjCZ",
    "outputId": "8ba9ac69-0ec7-4299-b8a1-675ebdff4259"
   },
   "outputs": [
    {
     "name": "stdout",
     "output_type": "stream",
     "text": [
      "train contamination  0.32\n",
      "test contamination  0.45 \n",
      "\n",
      "contamination is 0.32\n"
     ]
    }
   ],
   "source": [
    "tmp = train.where(train['attack_cat'] == \"Normal\").dropna()\n",
    "contamination = round(len(tmp)/len(train), 2)\n",
    "print(\"train contamination \", contamination)\n",
    "\n",
    "tmp = test.where(test['attack_cat'] == \"Normal\").dropna()\n",
    "print(\"test contamination \", round(len(tmp)/len(test),2),'\\n')\n",
    "\n",
    "if contamination > 0.5:\n",
    "  print(f'contamination is {contamination}, which is greater than 0.5. Fixing...')\n",
    "  contamination = 1-contamination\n",
    "print(f'contamination is {contamination}')"
   ]
  },
  {
   "cell_type": "code",
   "execution_count": 4,
   "metadata": {
    "colab": {
     "base_uri": "https://localhost:8080/",
     "height": 170
    },
    "id": "_tfrFURcVJ6X",
    "outputId": "5d98d347-a9e1-4b11-e0d2-5d51e0641cfd"
   },
   "outputs": [
    {
     "name": "stdout",
     "output_type": "stream",
     "text": [
      "attack cat: {'Worms', 'Shellcode', 'Generic', 'Backdoor', 'Normal', 'Fuzzers', 'Reconnaissance', 'Analysis', 'Exploits', 'DoS'}\n",
      "\n",
      "Describing attack_type: \n",
      "min 0\n",
      "max 9\n",
      "mode 0    6\n",
      "dtype: int32\n",
      "mode 0.3609225646458884 %\n",
      "looks like 6 is 'normal', but its not that common\n"
     ]
    }
   ],
   "source": [
    "le1 = LabelEncoder()\n",
    "le = LabelEncoder()\n",
    "\n",
    "vector = combined_data['attack_cat']\n",
    "\n",
    "print(\"attack cat:\", set(list(vector))) # use print to make it print on single line \n",
    "\n",
    "combined_data['attack_cat'] = le1.fit_transform(vector)\n",
    "combined_data['proto'] = le.fit_transform(combined_data['proto'])\n",
    "combined_data['service'] = le.fit_transform(combined_data['service'])\n",
    "combined_data['state'] = le.fit_transform(combined_data['state'])\n",
    "\n",
    "vector = combined_data['attack_cat']\n",
    "print('\\nDescribing attack_type: ')\n",
    "print(\"min\", vector.min())\n",
    "print(\"max\", vector.max())\n",
    "print(\"mode\",vector.mode())\n",
    "print(\"mode\", len(np.where(vector.values==6)[0])/len(vector),\"%\")\n",
    "print(\"looks like 6 is 'normal', but its not that common\") "
   ]
  },
  {
   "cell_type": "code",
   "execution_count": 5,
   "metadata": {
    "colab": {
     "base_uri": "https://localhost:8080/",
     "height": 51
    },
    "id": "FdGigIypbQfd",
    "outputId": "cc95aa22-b17e-4130-c565-aa58b59a427f"
   },
   "outputs": [
    {
     "data": {
      "text/plain": [
       "array(['Analysis', 'Backdoor', 'DoS', 'Exploits', 'Fuzzers', 'Generic',\n",
       "       'Normal', 'Reconnaissance', 'Shellcode', 'Worms'], dtype=object)"
      ]
     },
     "execution_count": 5,
     "metadata": {},
     "output_type": "execute_result"
    }
   ],
   "source": [
    "le1.inverse_transform([0,1,2,3,4,5,6,7,8,9])"
   ]
  },
  {
   "cell_type": "code",
   "execution_count": 6,
   "metadata": {
    "colab": {
     "base_uri": "https://localhost:8080/",
     "height": 162
    },
    "id": "hcbR7kQinwhR",
    "outputId": "313d9dd9-d86c-433a-95b5-e530830e17b7"
   },
   "outputs": [
    {
     "data": {
      "text/html": [
       "<div>\n",
       "<style scoped>\n",
       "    .dataframe tbody tr th:only-of-type {\n",
       "        vertical-align: middle;\n",
       "    }\n",
       "\n",
       "    .dataframe tbody tr th {\n",
       "        vertical-align: top;\n",
       "    }\n",
       "\n",
       "    .dataframe thead th {\n",
       "        text-align: right;\n",
       "    }\n",
       "</style>\n",
       "<table border=\"1\" class=\"dataframe\">\n",
       "  <thead>\n",
       "    <tr style=\"text-align: right;\">\n",
       "      <th></th>\n",
       "      <th>dur</th>\n",
       "      <th>proto</th>\n",
       "      <th>service</th>\n",
       "      <th>state</th>\n",
       "      <th>spkts</th>\n",
       "      <th>dpkts</th>\n",
       "      <th>sbytes</th>\n",
       "      <th>dbytes</th>\n",
       "      <th>rate</th>\n",
       "      <th>sttl</th>\n",
       "      <th>...</th>\n",
       "      <th>ct_dst_sport_ltm</th>\n",
       "      <th>ct_dst_src_ltm</th>\n",
       "      <th>is_ftp_login</th>\n",
       "      <th>ct_ftp_cmd</th>\n",
       "      <th>ct_flw_http_mthd</th>\n",
       "      <th>ct_src_ltm</th>\n",
       "      <th>ct_srv_dst</th>\n",
       "      <th>is_sm_ips_ports</th>\n",
       "      <th>attack_cat</th>\n",
       "      <th>label</th>\n",
       "    </tr>\n",
       "  </thead>\n",
       "  <tbody>\n",
       "    <tr>\n",
       "      <th>0</th>\n",
       "      <td>0.121478</td>\n",
       "      <td>113</td>\n",
       "      <td>0</td>\n",
       "      <td>4</td>\n",
       "      <td>6</td>\n",
       "      <td>4</td>\n",
       "      <td>258</td>\n",
       "      <td>172</td>\n",
       "      <td>74.087490</td>\n",
       "      <td>252</td>\n",
       "      <td>...</td>\n",
       "      <td>1</td>\n",
       "      <td>1</td>\n",
       "      <td>0</td>\n",
       "      <td>0</td>\n",
       "      <td>0</td>\n",
       "      <td>1</td>\n",
       "      <td>1</td>\n",
       "      <td>0</td>\n",
       "      <td>6</td>\n",
       "      <td>0</td>\n",
       "    </tr>\n",
       "    <tr>\n",
       "      <th>1</th>\n",
       "      <td>0.649902</td>\n",
       "      <td>113</td>\n",
       "      <td>0</td>\n",
       "      <td>4</td>\n",
       "      <td>14</td>\n",
       "      <td>38</td>\n",
       "      <td>734</td>\n",
       "      <td>42014</td>\n",
       "      <td>78.473372</td>\n",
       "      <td>62</td>\n",
       "      <td>...</td>\n",
       "      <td>1</td>\n",
       "      <td>2</td>\n",
       "      <td>0</td>\n",
       "      <td>0</td>\n",
       "      <td>0</td>\n",
       "      <td>1</td>\n",
       "      <td>6</td>\n",
       "      <td>0</td>\n",
       "      <td>6</td>\n",
       "      <td>0</td>\n",
       "    </tr>\n",
       "    <tr>\n",
       "      <th>2</th>\n",
       "      <td>1.623129</td>\n",
       "      <td>113</td>\n",
       "      <td>0</td>\n",
       "      <td>4</td>\n",
       "      <td>8</td>\n",
       "      <td>16</td>\n",
       "      <td>364</td>\n",
       "      <td>13186</td>\n",
       "      <td>14.170161</td>\n",
       "      <td>62</td>\n",
       "      <td>...</td>\n",
       "      <td>1</td>\n",
       "      <td>3</td>\n",
       "      <td>0</td>\n",
       "      <td>0</td>\n",
       "      <td>0</td>\n",
       "      <td>2</td>\n",
       "      <td>6</td>\n",
       "      <td>0</td>\n",
       "      <td>6</td>\n",
       "      <td>0</td>\n",
       "    </tr>\n",
       "  </tbody>\n",
       "</table>\n",
       "<p>3 rows × 44 columns</p>\n",
       "</div>"
      ],
      "text/plain": [
       "        dur  proto  service  state  spkts  dpkts  sbytes  dbytes       rate  \\\n",
       "0  0.121478    113        0      4      6      4     258     172  74.087490   \n",
       "1  0.649902    113        0      4     14     38     734   42014  78.473372   \n",
       "2  1.623129    113        0      4      8     16     364   13186  14.170161   \n",
       "\n",
       "   sttl  ...  ct_dst_sport_ltm  ct_dst_src_ltm  is_ftp_login  ct_ftp_cmd  \\\n",
       "0   252  ...                 1               1             0           0   \n",
       "1    62  ...                 1               2             0           0   \n",
       "2    62  ...                 1               3             0           0   \n",
       "\n",
       "   ct_flw_http_mthd  ct_src_ltm  ct_srv_dst  is_sm_ips_ports  attack_cat  \\\n",
       "0                 0           1           1                0           6   \n",
       "1                 0           1           6                0           6   \n",
       "2                 0           2           6                0           6   \n",
       "\n",
       "   label  \n",
       "0      0  \n",
       "1      0  \n",
       "2      0  \n",
       "\n",
       "[3 rows x 44 columns]"
      ]
     },
     "execution_count": 6,
     "metadata": {},
     "output_type": "execute_result"
    }
   ],
   "source": [
    "combined_data.head(3)"
   ]
  },
  {
   "cell_type": "code",
   "execution_count": 7,
   "metadata": {
    "id": "uRDvu_a8VA1q"
   },
   "outputs": [],
   "source": [
    "data_x = combined_data.drop(['attack_cat','label'], axis=1) # droped label\n",
    "data_y = combined_data.loc[:,['label']]\n",
    "# del combined_data # free mem\n",
    "X_train, X_test, y_train, y_test = train_test_split(data_x, data_y, test_size=.50, random_state=42) # TODO"
   ]
  },
  {
   "cell_type": "code",
   "execution_count": 8,
   "metadata": {
    "colab": {
     "base_uri": "https://localhost:8080/",
     "height": 34
    },
    "id": "xjNm11s-fqvw",
    "outputId": "ec33c416-ad80-44f2-d5c0-eb2e035f14bc"
   },
   "outputs": [
    {
     "data": {
      "text/plain": [
       "(128836, 42)"
      ]
     },
     "execution_count": 8,
     "metadata": {},
     "output_type": "execute_result"
    },
    {
     "data": {
      "text/plain": [
       "(128836, 1)"
      ]
     },
     "execution_count": 8,
     "metadata": {},
     "output_type": "execute_result"
    },
    {
     "data": {
      "text/plain": [
       "(128837, 42)"
      ]
     },
     "execution_count": 8,
     "metadata": {},
     "output_type": "execute_result"
    },
    {
     "data": {
      "text/plain": [
       "(128837, 1)"
      ]
     },
     "execution_count": 8,
     "metadata": {},
     "output_type": "execute_result"
    }
   ],
   "source": [
    "X_train.shape\n",
    "y_train.shape\n",
    "X_test.shape # test is larger... good \n",
    "y_test.shape"
   ]
  },
  {
   "cell_type": "markdown",
   "metadata": {
    "id": "gVO_4gmThrU-"
   },
   "source": [
    "# Benchmark"
   ]
  },
  {
   "cell_type": "code",
   "execution_count": null,
   "metadata": {
    "colab": {
     "base_uri": "https://localhost:8080/",
     "height": 102
    },
    "id": "YZYIJ9d_VA57",
    "outputId": "654940a8-7cec-4705-f429-519608ca37ee"
   },
   "outputs": [
    {
     "name": "stdout",
     "output_type": "stream",
     "text": [
      "Acc: 0.92544 for the DecisionTreeClassifier\n",
      "Acc: 0.94138 for the RandomForestClassifier\n",
      "Acc: 0.94051 for the ExtraTreesClassifier\n",
      "Acc: 0.93472 for the XGBClassifier\n",
      "Acc: 0.94362 for the LGBMClassifier\n"
     ]
    }
   ],
   "source": [
    "DTC = DecisionTreeClassifier()\n",
    "RFC = RandomForestClassifier(n_estimators=150, random_state=42, n_jobs=-1)\n",
    "ETC = ExtraTreesClassifier(n_estimators=200, random_state=42, n_jobs=-1)\n",
    "XGB = xgboost.XGBClassifier(n_estimators=150, n_jobs=-1)\n",
    "GBM = lightgbm.LGBMClassifier(objective='binary', n_estimators= 500) # multiclass\n",
    "\n",
    "list_of_CLFs_names = []\n",
    "list_of_CLFs = [DTC, RFC, ETC, XGB, GBM]\n",
    "ranking = []\n",
    "\n",
    "for clf in list_of_CLFs:\n",
    "    _ = clf.fit(X_train,y_train)\n",
    "    pred = clf.score(X_test,y_test)\n",
    "    name = str(type(clf)).split(\".\")[-1][:-2]\n",
    "    print(\"Acc: %0.5f for the %s\" % (pred, name))\n",
    "\n",
    "    ranking.append(pred)\n",
    "    list_of_CLFs_names.append(name)"
   ]
  },
  {
   "cell_type": "code",
   "execution_count": null,
   "metadata": {
    "colab": {
     "base_uri": "https://localhost:8080/",
     "height": 34
    },
    "id": "UJTr88Kge5bs",
    "outputId": "bae58037-2198-4851-cbec-e7c7239758e7"
   },
   "outputs": [
    {
     "name": "stdout",
     "output_type": "stream",
     "text": [
      "Acc: 0.94141 for the EnsembleVoteClassifier\n"
     ]
    }
   ],
   "source": [
    "eclf = EnsembleVoteClassifier(clfs=list_of_CLFs, refit=False, voting='soft')\n",
    "_ = eclf.fit(X_train, y_train)\n",
    "pred = eclf.score(X_test, y_test)\n",
    "print(\"Acc: %0.5f for the %s\" % (pred, str(type(eclf)).split(\".\")[-1][:-2]))\n",
    "\n",
    "\n",
    "pred = eclf.predict(X_test)\n",
    "probas = eclf.predict_proba(X_test)\n",
    "plt.show()"
   ]
  },
  {
   "cell_type": "markdown",
   "metadata": {
    "id": "T1Ha3TsuqUWB"
   },
   "source": [
    "## Unsupervied ML"
   ]
  },
  {
   "cell_type": "code",
   "execution_count": null,
   "metadata": {
    "id": "CjRc41fsnMr6"
   },
   "outputs": [],
   "source": [
    "%%capture \n",
    "!pip install pyod\n",
    "!pip install hdbscan\n",
    "!pip install rrcf\n",
    "!pip install combo\n",
    "!pip install SOM...... # https://github.com/AICoE/log-anomaly-detector/blob/master/Notebooks/SOM_retrain_notebook/SOM_UserFeedbackPOC.ipynb\n",
    "!pip install somtf"
   ]
  },
  {
   "cell_type": "code",
   "execution_count": null,
   "metadata": {
    "id": "X05LsfcUjRyh"
   },
   "outputs": [],
   "source": [
    "import gc, os, pickle\n",
    "from datetime import datetime\n",
    "\n",
    "import numpy as np\n",
    "import pandas as pd\n",
    "from collections import Counter\n",
    "\n",
    "from IPython.core.interactiveshell import InteractiveShell\n",
    "InteractiveShell.ast_node_interactivity = \"all\"\n",
    "\n",
    "import warnings\n",
    "warnings.simplefilter(action='ignore', category=FutureWarning)\n",
    "\n",
    "import pyod\n",
    "from hdbscan import HDBSCAN\n",
    "import rrcf\n",
    "\n",
    "import sklearn\n",
    "from sklearn.model_selection import train_test_split\n",
    "from sklearn.decomposition import * \n",
    "from sklearn.preprocessing import *\n",
    "from sklearn.svm import *"
   ]
  },
  {
   "cell_type": "code",
   "execution_count": null,
   "metadata": {
    "id": "Po7VpfirjR2L"
   },
   "outputs": [],
   "source": [
    "from pyod.models import lof, cblof, cof, pca, iforest, knn, mcd, ocsvm, sod, abod, hbos #, auto_encoder, vae\n",
    "contamination = 0.01\n",
    "threshold = 0.75"
   ]
  },
  {
   "cell_type": "code",
   "execution_count": null,
   "metadata": {
    "colab": {
     "base_uri": "https://localhost:8080/",
     "height": 119
    },
    "id": "r5SPcmAFjR5l",
    "outputId": "fddc220f-dd93-4d67-faec-5fd5527137bc"
   },
   "outputs": [
    {
     "name": "stdout",
     "output_type": "stream",
     "text": [
      "ratio of normal in train  0.32\n",
      "contamination in train  0.68\n",
      "ratio of normal in test  0.45 \n",
      "\n",
      "contamination is 0.68, which is greater than 0.5. Fixing...\n",
      "contamination is 0.32\n"
     ]
    }
   ],
   "source": [
    "tmp = train.where(train['attack_cat'] == \"Normal\").dropna()\n",
    "contamination = round(len(tmp)/len(train), 2)\n",
    "print(\"train contamination \", contamination)\n",
    "\n",
    "tmp = test.where(test['attack_cat'] == \"Normal\").dropna()\n",
    "print(\"test contamination \", round(len(tmp)/len(test),2),'\\n')\n",
    "\n",
    "if contamination > 0.5:\n",
    "  print(f'contamination is {contamination}, which is greater than 0.5. Fixing...')\n",
    "  contamination = 1-contamination\n",
    "print(f'contamination is {contamination}')"
   ]
  },
  {
   "cell_type": "markdown",
   "metadata": {
    "id": "8d9cCCYvu0i1"
   },
   "source": [
    "## Uses PYOD"
   ]
  },
  {
   "cell_type": "code",
   "execution_count": null,
   "metadata": {
    "colab": {
     "base_uri": "https://localhost:8080/",
     "height": 51
    },
    "id": "XpSg_uGZjR9J",
    "outputId": "2eaaabab-ebad-4ee9-c68e-239767b56b0e"
   },
   "outputs": [
    {
     "name": "stdout",
     "output_type": "stream",
     "text": [
      "Acc of train: 0.5108278030038421\n",
      "Acc of test: 0.5212162666938328\n"
     ]
    }
   ],
   "source": [
    "lof_clf = lof.LOF(contamination=contamination, n_jobs=-1)\n",
    "_ = lof_clf.fit(X_train)\n",
    "\n",
    "predictions = lof_clf.predict(X_train)\n",
    "print(f'Acc of train: {accuracy_score(y_train, predictions)}')\n",
    "\n",
    "predictions = lof_clf.predict(X_test)\n",
    "print(f'Acc of test: {accuracy_score(y_test, predictions)}')"
   ]
  },
  {
   "cell_type": "code",
   "execution_count": null,
   "metadata": {
    "colab": {
     "base_uri": "https://localhost:8080/",
     "height": 51
    },
    "id": "9HMfAuoOjSAq",
    "outputId": "508747b7-45ca-43f2-ce45-d5581d10c059"
   },
   "outputs": [
    {
     "name": "stdout",
     "output_type": "stream",
     "text": [
      "Acc of train: 0.3870842550549152\n",
      "Acc of test: 0.3908430719077904\n"
     ]
    }
   ],
   "source": [
    "cblof_clf = cblof.CBLOF(contamination=contamination, n_jobs=-1, n_clusters=45)\n",
    "_ = cblof_clf.fit(X_train)\n",
    "\n",
    "predictions = cblof_clf.predict(X_train)\n",
    "print(f'Acc of train: {accuracy_score(y_train, predictions)}')\n",
    "\n",
    "predictions = cblof_clf.predict(X_test)\n",
    "print(f'Acc of test: {accuracy_score(y_test, predictions)}')"
   ]
  },
  {
   "cell_type": "code",
   "execution_count": null,
   "metadata": {
    "id": "o3yKHghIjSEV"
   },
   "outputs": [],
   "source": [
    "cof_clf = cof.COF(contamination=contamination) # slow and mem intensive 10,000 soft limit \n",
    "_ = cof_clf.fit(X_train[:1000])\n",
    "\n",
    "predictions = cof_clf.predict(X_train)\n",
    "print(f'Acc of train: {accuracy_score(y_train, predictions)}')\n",
    "\n",
    "predictions = cof_clf.predict(X_test)\n",
    "print(f'Acc of test: {accuracy_score(y_test, predictions)}')"
   ]
  },
  {
   "cell_type": "code",
   "execution_count": null,
   "metadata": {
    "colab": {
     "base_uri": "https://localhost:8080/",
     "height": 85
    },
    "id": "ixQ7uR00jSIB",
    "outputId": "181890a8-14ae-4cc2-c47d-2e4f812ec815"
   },
   "outputs": [
    {
     "data": {
      "text/plain": [
       "PCA(contamination=0.32, copy=True, iterated_power='auto', n_components=None,\n",
       "  n_selected_components=None, random_state=None, standardization=True,\n",
       "  svd_solver='auto', tol=0.0, weighted=True, whiten=False)"
      ]
     },
     "execution_count": 13,
     "metadata": {
      "tags": []
     },
     "output_type": "execute_result"
    },
    {
     "name": "stdout",
     "output_type": "stream",
     "text": [
      "Acc of train: 0.43190903093103583\n",
      "Acc of test: 0.43209678905980914\n"
     ]
    }
   ],
   "source": [
    "# https://pyod.readthedocs.io/en/latest/_modules/pyod/models/pca.html\n",
    "pca_clf = pca.PCA(contamination=contamination)\n",
    "_ = pca_clf.fit(X_train)\n",
    "\n",
    "predictions = pca_clf.predict(X_train)\n",
    "print(f'Acc of train: {accuracy_score(y_train, predictions)}')\n",
    "\n",
    "predictions = pca_clf.predict(X_test)\n",
    "print(f'Acc of test: {accuracy_score(y_test, predictions)}')"
   ]
  },
  {
   "cell_type": "code",
   "execution_count": null,
   "metadata": {
    "colab": {
     "base_uri": "https://localhost:8080/",
     "height": 51
    },
    "id": "4OHfbx1qjSLS",
    "outputId": "4e6f18f8-c613-4194-a436-589f47ed4238"
   },
   "outputs": [
    {
     "name": "stdout",
     "output_type": "stream",
     "text": [
      "Acc of train: 0.34641207746342223\n",
      "Acc of test: 0.3474888303523351\n"
     ]
    }
   ],
   "source": [
    "iforest_clf = iforest.IForest(contamination=contamination, n_estimators=300, max_samples= 1028, n_jobs=-1)\n",
    "_ = iforest_clf.fit(X_train)\n",
    "\n",
    "predictions = iforest_clf.predict(X_train)\n",
    "print(f'Acc of train: {accuracy_score(y_train, predictions)}')\n",
    "\n",
    "predictions = iforest_clf.predict(X_test)\n",
    "print(f'Acc of test: {accuracy_score(y_test, predictions)}')"
   ]
  },
  {
   "cell_type": "code",
   "execution_count": null,
   "metadata": {
    "colab": {
     "base_uri": "https://localhost:8080/",
     "height": 51
    },
    "id": "twvrr6d5jSOq",
    "outputId": "1bf67def-a42d-4afa-971a-af23eced1d30"
   },
   "outputs": [
    {
     "name": "stdout",
     "output_type": "stream",
     "text": [
      "Acc of train: 0.4621026894865526\n",
      "Acc of test: 0.46278967104720603\n"
     ]
    }
   ],
   "source": [
    "knn_clf = knn.KNN(contamination=contamination, radius=1.5, n_neighbors=20, n_jobs=-1) #TODO radius\n",
    "_ = knn_clf.fit(X_train)\n",
    "\n",
    "predictions = knn_clf.predict(X_train)\n",
    "print(f'Acc of train: {accuracy_score(y_train, predictions)}')\n",
    "\n",
    "predictions = knn_clf.predict(X_test)\n",
    "print(f'Acc of test: {accuracy_score(y_test, predictions)}')"
   ]
  },
  {
   "cell_type": "code",
   "execution_count": null,
   "metadata": {
    "colab": {
     "base_uri": "https://localhost:8080/",
     "height": 51
    },
    "id": "I8gsbiYtjSRk",
    "outputId": "3f3cec7b-b8eb-4dad-8909-f141070aa6fb"
   },
   "outputs": [
    {
     "name": "stdout",
     "output_type": "stream",
     "text": [
      "Acc of train: 0.5762991423138123\n",
      "Acc of test: 0.5783427687143141\n"
     ]
    }
   ],
   "source": [
    "ocsvm_clf = ocsvm.OCSVM(contamination=contamination) # expensive? \n",
    "_ = ocsvm_clf.fit(X_train[:1000])\n",
    "\n",
    "predictions = ocsvm_clf.predict(X_train)\n",
    "print(f'Acc of train: {accuracy_score(y_train, predictions)}')\n",
    "\n",
    "predictions = ocsvm_clf.predict(X_test)\n",
    "print(f'Acc of test: {accuracy_score(y_test, predictions)}')"
   ]
  },
  {
   "cell_type": "code",
   "execution_count": null,
   "metadata": {
    "colab": {
     "base_uri": "https://localhost:8080/",
     "height": 51
    },
    "id": "1T_uPrDSjRop",
    "outputId": "18bcce89-697c-4f9d-b2be-176cbb402659"
   },
   "outputs": [
    {
     "name": "stdout",
     "output_type": "stream",
     "text": [
      "Acc of train: 0.3617999767144021\n",
      "Acc of test: 0.3607032148210673\n"
     ]
    }
   ],
   "source": [
    "X_temp = X_train.astype(np.float) \n",
    "abod_clf = abod.ABOD(contamination=contamination, n_neighbors=10, )\n",
    "_ = abod_clf.fit(X_temp)\n",
    "\n",
    "\n",
    "predictions = abod_clf.predict(X_train)\n",
    "print(f'Acc of train: {accuracy_score(y_train, predictions)}')\n",
    "\n",
    "predictions = abod_clf.predict(X_test)\n",
    "print(f'Acc of test: {accuracy_score(y_test, predictions)}')"
   ]
  },
  {
   "cell_type": "code",
   "execution_count": null,
   "metadata": {
    "colab": {
     "base_uri": "https://localhost:8080/",
     "height": 51
    },
    "id": "jmvwsp-KnNWi",
    "outputId": "8da8fce4-462f-427e-84ed-740461660ecc"
   },
   "outputs": [
    {
     "name": "stdout",
     "output_type": "stream",
     "text": [
      "0.41491 % outliers\n"
     ]
    },
    {
     "data": {
      "text/plain": [
       "0.4813327123840571"
      ]
     },
     "execution_count": 32,
     "metadata": {
      "tags": []
     },
     "output_type": "execute_result"
    }
   ],
   "source": [
    "hdbScan_clf = HDBSCAN(15, leaf_size=80)\n",
    "_ = hdbScan_clf.fit(X_train)\n",
    "\n",
    "hdbScan_clf_outliers = hdbScan_clf.outlier_scores_ > 0.05 # akin to clf.pred_proba \n",
    "\n",
    "print(round(sum(hdbScan_clf_outliers == True)/X_train.shape[0], 5),\"% outliers\")\n",
    "# pd.DataFrame(X_train[hdbScan_clf_outliers])\n",
    "accuracy_score(y_train, hdbScan_clf_outliers)"
   ]
  },
  {
   "cell_type": "code",
   "execution_count": null,
   "metadata": {
    "id": "gJY4PEQhnNb5"
   },
   "outputs": [],
   "source": []
  },
  {
   "cell_type": "code",
   "execution_count": null,
   "metadata": {
    "id": "PkbExAc-nNfp"
   },
   "outputs": [],
   "source": []
  },
  {
   "cell_type": "code",
   "execution_count": null,
   "metadata": {
    "colab": {
     "base_uri": "https://localhost:8080/",
     "height": 34
    },
    "id": "T2aaz0iLnNja",
    "outputId": "e1a42545-704a-466f-81f4-1dcfa86eda45"
   },
   "outputs": [],
   "source": []
  },
  {
   "cell_type": "code",
   "execution_count": null,
   "metadata": {
    "id": "v30s7FidnNm-"
   },
   "outputs": [],
   "source": []
  },
  {
   "cell_type": "code",
   "execution_count": null,
   "metadata": {
    "id": "ARG5tDbjnNqa"
   },
   "outputs": [],
   "source": []
  },
  {
   "cell_type": "code",
   "execution_count": null,
   "metadata": {
    "id": "74QP1VY6nNth"
   },
   "outputs": [],
   "source": [
    "from suod.models.base import SUOD\n",
    "\n",
    "# initialize a set of base outlier detectors to train and predict on\n",
    "base_estimators = [\n",
    "    knn.KNN(n_neighbors=5,  contamination=contamination, radius=1.5),\n",
    "    knn.KNN(n_neighbors=15, contamination=contamination, radius=1.5),\n",
    "    knn.KNN(n_neighbors=25, contamination=contamination, radius=1.5),\n",
    "    lof.LOF(n_neighbors=5,  contamination=contamination),\n",
    "    lof.LOF(n_neighbors=15, contamination=contamination),\n",
    "    lof.LOF(n_neighbors=25, contamination=contamination),\n",
    "    cblof.CBLOF(contamination=contamination, n_clusters=45),\n",
    "    hbos.HBOS(contamination=contamination, n_bins=10, tol=0.1),\n",
    "    pca.PCA(contamination=contamination),\n",
    "    \n",
    "    iforest.IForest(contamination=contamination, n_estimators=300, max_samples=1028),\n",
    "    abod.ABOD(contamination=contamination, n_neighbors=10),\n",
    "\n",
    "    \n",
    "##     mcd.MCD(contamination=contamination),\n",
    "##     DO NOT... ocsvm.OCSVM(contamination=contamination, ),\n",
    "                    ## not compatible\n",
    "##     cof.COF(contamination=contamination),\n",
    "##     sod.SOD(contamination=contamination, n_neighbors=25),\n",
    "]\n",
    "\n",
    "# initialize a SUOD model with all features turned on\n",
    "model = SUOD(base_estimators=base_estimators, n_jobs=4,  # number of workers\n",
    "             rp_flag_global=True,  # global flag for random projection\n",
    "             bps_flag=True,  # global flag for balanced parallel scheduling\n",
    "             approx_flag_global=False,  # global flag for model approximation\n",
    "             contamination=contamination)\n",
    "\n",
    "_ = model.fit(X_train)  # fit all models with X\n",
    "model.approximate(X_train)  # conduct model approximation if it is enabled\n",
    "predicted_labels = model.predict(X_train)  # predict labels\n",
    "predicted_probs = model.predict_proba(X_train)  # predict outlying probability\n",
    "# predicted_scores = model.decision_function(X_train)  # predict scores"
   ]
  },
  {
   "cell_type": "code",
   "execution_count": null,
   "metadata": {
    "id": "mohA8IeSnNw7"
   },
   "outputs": [],
   "source": []
  },
  {
   "cell_type": "code",
   "execution_count": null,
   "metadata": {
    "id": "a-Jf6wmTnN0B"
   },
   "outputs": [],
   "source": []
  },
  {
   "cell_type": "code",
   "execution_count": null,
   "metadata": {
    "id": "LVGSOxgunN3S"
   },
   "outputs": [],
   "source": [
    "from pyod.models import so_gaal, auto_encoder, vae"
   ]
  },
  {
   "cell_type": "code",
   "execution_count": null,
   "metadata": {
    "id": "tkcSDGFhnN6H"
   },
   "outputs": [],
   "source": [
    "data = X_train\n",
    "dim = X_train.shape[1]\n",
    "\n",
    "model = vae.VAE(contamination=contamination, encoder_neurons=[dim, dim-1],decoder_neurons=[dim-1,dim],  ) \n",
    "_ = model.fit(data)"
   ]
  },
  {
   "cell_type": "code",
   "execution_count": null,
   "metadata": {
    "id": "DMKSBLJknN8i"
   },
   "outputs": [],
   "source": [
    "y_train = model.predict(X_train)\n",
    "# new_array = [tuple(row) for row in X_train[y_train]]\n",
    "# EVIL = pd.DataFrame(set(new_array), columns = columns)\n",
    "# EVIL\n",
    "\n",
    "if isinstance(X_train, (np.ndarray)):\n",
    "    rows = np.unique(X_train[y_train], axis =0) # need axis=0; \"If None, array will be flattened.\", Thats stupid -_- \n",
    "    inverse_transform_DF(pd.DataFrame(data=rows, columns=columns, dtype = np.int))  \n",
    "else:\n",
    "    df = X_train.iloc[y_train].drop_duplicates()\n",
    "    inverse_transform_DF(df)"
   ]
  },
  {
   "cell_type": "code",
   "execution_count": null,
   "metadata": {
    "id": "C4xVMFPRzfmT"
   },
   "outputs": [],
   "source": [
    "# %%capture\n",
    "gan = so_gaal.SO_GAAL(contamination=0.3, )\n",
    "_ = gan.fit(X_train)"
   ]
  },
  {
   "cell_type": "code",
   "execution_count": null,
   "metadata": {
    "id": "hP6xDdQhzfpX"
   },
   "outputs": [],
   "source": [
    "y_train = gan.predict(X_train)\n",
    "\n",
    "if isinstance(X_train, (np.ndarray)):\n",
    "    rows = np.unique(X_train[y_train], axis =0) # need axis=0; \"If None, array will be flattened.\", Thats stupid -_- \n",
    "    inverse_transform_DF(pd.DataFrame(data=rows, columns=columns, dtype = np.int))  \n",
    "else:\n",
    "    df = X_train.iloc[y_train].drop_duplicates()\n",
    "    inverse_transform_DF(df)"
   ]
  },
  {
   "cell_type": "code",
   "execution_count": null,
   "metadata": {
    "id": "lQQe0z7izfs4"
   },
   "outputs": [],
   "source": []
  },
  {
   "cell_type": "code",
   "execution_count": null,
   "metadata": {
    "id": "10nW7dmZzk39"
   },
   "outputs": [],
   "source": []
  },
  {
   "cell_type": "code",
   "execution_count": null,
   "metadata": {
    "id": "2JIaoEjtzk-K"
   },
   "outputs": [],
   "source": []
  },
  {
   "cell_type": "code",
   "execution_count": null,
   "metadata": {
    "id": "_NllfJYOzlBl"
   },
   "outputs": [],
   "source": []
  },
  {
   "cell_type": "code",
   "execution_count": null,
   "metadata": {
    "id": "WXlC0Yckzk7K"
   },
   "outputs": [],
   "source": [
    "wanted_explained_variance_ratio = 0.99\n",
    "steps_down = 1\n",
    "wanted_n_components = X_train.shape[1]\n",
    "first_time = True\n",
    "\n",
    "for i in range(X_train.shape[1], 1, -steps_down):\n",
    "  total_var_ratio = round(np.sum(PCA(n_components=i).fit(X_train).explained_variance_ratio_),5)\n",
    "  print('i =', i, 'with a variance ratio of', total_var_ratio)\n",
    "  if total_var_ratio < wanted_explained_variance_ratio and first_time:\n",
    "    wanted_n_components = i + steps_down\n",
    "    first_time = False\n",
    "print(\"We should set n_components to: \", wanted_n_components)\n",
    "\n",
    "# X_train = PCA(n_components=wanted_n_components).fit_transform(X_train)\n",
    "\n",
    "print(\"-----------------------------------\\nTruncatedSVD\")\n",
    "\n",
    "wanted_explained_variance_ratio = 0.99\n",
    "steps_down = 1\n",
    "wanted_n_components = X_train.shape[1]\n",
    "first_time = True\n",
    "\n",
    "for i in range(X_train.shape[1]-1, 1, -steps_down):\n",
    "  total_var_ratio = round(np.sum(TruncatedSVD(n_components=i).fit(X_train).explained_variance_ratio_),5)\n",
    "  print('i =', i, 'with a variance ratio of', total_var_ratio)\n",
    "  if total_var_ratio < wanted_explained_variance_ratio and first_time:\n",
    "    wanted_n_components = i + steps_down\n",
    "    first_time = False\n",
    "print(\"We should set n_components to: \", wanted_n_components)\n",
    "\n",
    "# X_train = PCA(n_components=wanted_n_components).fit_transform(X_train)"
   ]
  },
  {
   "cell_type": "code",
   "execution_count": 18,
   "metadata": {
    "id": "450Lfv7Hzpqb"
   },
   "outputs": [
    {
     "name": "stdout",
     "output_type": "stream",
     "text": [
      "Populating the interactive namespace from numpy and matplotlib\n"
     ]
    }
   ],
   "source": [
    "from matplotlib import pyplot as plt\n",
    "from sklearn.manifold import TSNE\n",
    "from sklearn.decomposition import *\n",
    "\n",
    "from matplotlib import pyplot as plt\n",
    "import pylab\n",
    "from mpl_toolkits.mplot3d import Axes3D\n",
    "from mpl_toolkits.mplot3d import proj3d\n",
    "%matplotlib inline\n",
    "%pylab inline"
   ]
  },
  {
   "cell_type": "code",
   "execution_count": 19,
   "metadata": {
    "id": "w6wuLwhpzptU"
   },
   "outputs": [
    {
     "data": {
      "text/plain": [
       "<Figure size 648x432 with 0 Axes>"
      ]
     },
     "execution_count": 19,
     "metadata": {},
     "output_type": "execute_result"
    },
    {
     "data": {
      "text/plain": [
       "<matplotlib.collections.PathCollection at 0x1eee07690c8>"
      ]
     },
     "execution_count": 19,
     "metadata": {},
     "output_type": "execute_result"
    },
    {
     "data": {
      "image/png": "[encoded data removed]",
      "text/plain": [
       "<Figure size 648x432 with 1 Axes>"
      ]
     },
     "metadata": {
      "needs_background": "light"
     },
     "output_type": "display_data"
    }
   ],
   "source": [
    "#TSNE(2) == StandardScaler( TSNE(2) )\n",
    "# x, y = list(zip(*StandardScaler().fit_transform(TSNE(n_components=2, random_state=0).fit_transform(X_train[:1500]))))\n",
    "x, y = list(zip(*(TSNE(n_components=2, random_state=0).fit_transform(X_train[:1500]))))\n",
    "\n",
    "plt.figure(figsize=(9, 6))\n",
    "plt.scatter(x, y)\n",
    "plt.show()"
   ]
  },
  {
   "cell_type": "code",
   "execution_count": 20,
   "metadata": {
    "id": "WxtOG97mzpw3"
   },
   "outputs": [
    {
     "data": {
      "image/png": "[encoded data removed]",
      "text/plain": [
       "<Figure size 432x288 with 1 Axes>"
      ]
     },
     "metadata": {
      "needs_background": "light"
     },
     "output_type": "display_data"
    }
   ],
   "source": [
    "#TSNE(3)\n",
    "data = TSNE(n_components=3, random_state=12).fit_transform(X_train[:900])\n",
    "x, y, z = list(zip(*data))\n",
    "\n",
    "fig = pylab.figure()\n",
    "ax = fig.add_subplot(111, projection = '3d')\n",
    "sc = ax.scatter(x,y,z)"
   ]
  },
  {
   "cell_type": "code",
   "execution_count": 21,
   "metadata": {
    "id": "q41B5A9eztBu"
   },
   "outputs": [
    {
     "ename": "NameError",
     "evalue": "name 'StandardScaler' is not defined",
     "output_type": "error",
     "traceback": [
      "\u001b[1;31m---------------------------------------------------------------------------\u001b[0m",
      "\u001b[1;31mNameError\u001b[0m                                 Traceback (most recent call last)",
      "\u001b[1;32m<ipython-input-21-7d462b2fa6da>\u001b[0m in \u001b[0;36m<module>\u001b[1;34m\u001b[0m\n\u001b[0;32m      1\u001b[0m \u001b[1;31m# PCA(2) # little difference from StandardScaler vs MinMaxScaler\u001b[0m\u001b[1;33m\u001b[0m\u001b[1;33m\u001b[0m\u001b[1;33m\u001b[0m\u001b[0m\n\u001b[1;32m----> 2\u001b[1;33m \u001b[0mx\u001b[0m\u001b[1;33m,\u001b[0m \u001b[0my\u001b[0m \u001b[1;33m=\u001b[0m \u001b[0mlist\u001b[0m\u001b[1;33m(\u001b[0m\u001b[0mzip\u001b[0m\u001b[1;33m(\u001b[0m\u001b[1;33m*\u001b[0m\u001b[0mStandardScaler\u001b[0m\u001b[1;33m(\u001b[0m\u001b[1;33m)\u001b[0m\u001b[1;33m.\u001b[0m\u001b[0mfit_transform\u001b[0m\u001b[1;33m(\u001b[0m\u001b[0mPCA\u001b[0m\u001b[1;33m(\u001b[0m\u001b[1;36m2\u001b[0m\u001b[1;33m)\u001b[0m\u001b[1;33m.\u001b[0m\u001b[0mfit_transform\u001b[0m\u001b[1;33m(\u001b[0m\u001b[0mX_train\u001b[0m\u001b[1;33m[\u001b[0m\u001b[1;33m:\u001b[0m\u001b[1;36m1500\u001b[0m\u001b[1;33m]\u001b[0m\u001b[1;33m)\u001b[0m\u001b[1;33m)\u001b[0m\u001b[1;33m)\u001b[0m\u001b[1;33m)\u001b[0m\u001b[1;33m\u001b[0m\u001b[1;33m\u001b[0m\u001b[0m\n\u001b[0m\u001b[0;32m      3\u001b[0m \u001b[1;33m\u001b[0m\u001b[0m\n\u001b[0;32m      4\u001b[0m \u001b[0mplt\u001b[0m\u001b[1;33m.\u001b[0m\u001b[0mfigure\u001b[0m\u001b[1;33m(\u001b[0m\u001b[0mfigsize\u001b[0m\u001b[1;33m=\u001b[0m\u001b[1;33m(\u001b[0m\u001b[1;36m9\u001b[0m\u001b[1;33m,\u001b[0m \u001b[1;36m6\u001b[0m\u001b[1;33m)\u001b[0m\u001b[1;33m)\u001b[0m\u001b[1;33m\u001b[0m\u001b[1;33m\u001b[0m\u001b[0m\n\u001b[0;32m      5\u001b[0m \u001b[0mplt\u001b[0m\u001b[1;33m.\u001b[0m\u001b[0mscatter\u001b[0m\u001b[1;33m(\u001b[0m\u001b[0mx\u001b[0m\u001b[1;33m,\u001b[0m \u001b[0my\u001b[0m\u001b[1;33m)\u001b[0m\u001b[1;33m\u001b[0m\u001b[1;33m\u001b[0m\u001b[0m\n",
      "\u001b[1;31mNameError\u001b[0m: name 'StandardScaler' is not defined"
     ]
    }
   ],
   "source": [
    "# PCA(2) # little difference from StandardScaler vs MinMaxScaler\n",
    "x, y = list(zip(*MinMaxScaler().fit_transform(PCA(2).fit_transform(X_train[:1500]))))\n",
    "\n",
    "plt.figure(figsize=(9, 6))\n",
    "plt.scatter(x, y)\n",
    "plt.show()"
   ]
  },
  {
   "cell_type": "code",
   "execution_count": null,
   "metadata": {
    "id": "B9Jk3ZrYztsz"
   },
   "outputs": [],
   "source": [
    "# PCA(3)\n",
    "x, y, z = list(zip(*MinMaxScaler().fit_transform(PCA(3).fit_transform(X_train[:400]))))\n",
    "\n",
    "fig = pylab.figure()\n",
    "ax = fig.add_subplot(111, projection = '3d')\n",
    "sc = ax.scatter(x,y,z)"
   ]
  },
  {
   "cell_type": "code",
   "execution_count": null,
   "metadata": {},
   "outputs": [],
   "source": []
  }
 ],
 "metadata": {
  "colab": {
   "collapsed_sections": [],
   "include_colab_link": true,
   "name": "UNSW-NB15_Unsupervised",
   "provenance": []
  },
  "kernelspec": {
   "display_name": "Python 3",
   "language": "python",
   "name": "python3"
  },
  "language_info": {
   "codemirror_mode": {
    "name": "ipython",
    "version": 3
   },
   "file_extension": ".py",
   "mimetype": "text/x-python",
   "name": "python",
   "nbconvert_exporter": "python",
   "pygments_lexer": "ipython3",
   "version": "3.7.6"
  }
 },
 "nbformat": 4,
 "nbformat_minor": 1
}
